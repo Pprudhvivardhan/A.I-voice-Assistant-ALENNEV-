{
 "cells": [
  {
   "cell_type": "markdown",
   "id": "b1dc8fab",
   "metadata": {},
   "source": [
    "## Project Name : Developing a Voice Assistant - Alennev \n"
   ]
  },
  {
   "cell_type": "markdown",
   "id": "d605668e",
   "metadata": {},
   "source": [
    "#### Importing Libraries"
   ]
  },
  {
   "cell_type": "code",
   "execution_count": 7,
   "id": "7ad658ae",
   "metadata": {},
   "outputs": [],
   "source": [
    "#pip install SpeechRecognition"
   ]
  },
  {
   "cell_type": "code",
   "execution_count": 8,
   "id": "b106a511",
   "metadata": {},
   "outputs": [],
   "source": [
    "#pip install wikipedia"
   ]
  },
  {
   "cell_type": "code",
   "execution_count": 9,
   "id": "b3306445",
   "metadata": {},
   "outputs": [],
   "source": [
    "#pip install pyttsx3"
   ]
  },
  {
   "cell_type": "code",
   "execution_count": 10,
   "id": "55bfe80c",
   "metadata": {},
   "outputs": [],
   "source": [
    "#pip install pycopy-webbrowser"
   ]
  },
  {
   "cell_type": "markdown",
   "id": "cab651be",
   "metadata": {},
   "source": [
    "To install PyAudio : https://www.lfd.uci.edu/~gohlke/pythonlibs/#pyaudio"
   ]
  },
  {
   "cell_type": "code",
   "execution_count": 11,
   "id": "6a45a35f",
   "metadata": {},
   "outputs": [],
   "source": [
    "import pyttsx3 ##for the ai to speak,## text to speech library\n",
    "import datetime\n",
    "import speech_recognition as sr ##for getting input voices   ## speech to text library\n",
    "import wikipedia ##for surfing wikipedia\n",
    "import os  ##for opening local files\n",
    "import webbrowser ## for surfing the internet"
   ]
  },
  {
   "cell_type": "markdown",
   "id": "c513a634",
   "metadata": {},
   "source": [
    "Importing the voice for our AI"
   ]
  },
  {
   "cell_type": "code",
   "execution_count": 12,
   "id": "8f744612",
   "metadata": {},
   "outputs": [],
   "source": [
    "engine = pyttsx3.init('sapi5')\n",
    "voices = engine.getProperty('voices')\n",
    "engine.setProperty('voice', voices[1].id)"
   ]
  },
  {
   "cell_type": "code",
   "execution_count": 13,
   "id": "f568f347",
   "metadata": {},
   "outputs": [],
   "source": [
    "#print(voices[1].id)"
   ]
  },
  {
   "cell_type": "markdown",
   "id": "523ba8ed",
   "metadata": {},
   "source": [
    "Developing a greeting function"
   ]
  },
  {
   "cell_type": "code",
   "execution_count": 14,
   "id": "749a701a",
   "metadata": {},
   "outputs": [],
   "source": [
    "def speak(audio):\n",
    "    engine.say(audio)\n",
    "    engine.runAndWait()\n",
    "\n",
    "def greet():\n",
    "    \n",
    "    hour = int(datetime.datetime.now().hour)\n",
    "    if hour>=0 and hour<12:\n",
    "        speak(\"It is a fine morning sir !\")\n",
    "        \n",
    "\n",
    "    elif hour>=12 and hour<18:\n",
    "        speak(\"Hi sir \")   \n",
    "\n",
    "    else:\n",
    "        speak( \"good evening sir !\")  \n",
    "\n",
    "    speak(\"Iam your virtual assistant 'Alennev' !  How can I be of service \")"
   ]
  },
  {
   "cell_type": "code",
   "execution_count": 15,
   "id": "2fc2e819",
   "metadata": {},
   "outputs": [],
   "source": [
    "greet()"
   ]
  },
  {
   "cell_type": "code",
   "execution_count": 16,
   "id": "0b5b6dbb",
   "metadata": {},
   "outputs": [],
   "source": [
    "def command():\n",
    "    \n",
    "\n",
    "    r = sr.Recognizer()\n",
    "    with sr.Microphone() as source:\n",
    "        print(\"Listening...\")\n",
    "        r.pause_threshold = 1.2\n",
    "        audio = r.listen(source)\n",
    "\n",
    "    try:\n",
    "        print(\"Recognizing...\")    \n",
    "        query = r.recognize_google(audio, language='en-in')  ##speech to text\n",
    "        print(f\"You said: {query}\\n\")\n",
    "\n",
    "    except Exception as e:\n",
    "          \n",
    "        print(\"I could not get you, please speak again\")  \n",
    "        return \"None\"\n",
    "    return query"
   ]
  },
  {
   "cell_type": "code",
   "execution_count": 17,
   "id": "a66b5960",
   "metadata": {},
   "outputs": [
    {
     "name": "stdout",
     "output_type": "stream",
     "text": [
      "Listening...\n",
      "Recognizing...\n",
      "You said: open YouTube\n",
      "\n"
     ]
    }
   ],
   "source": [
    "if __name__ == \"__main__\":\n",
    "    greet()\n",
    "    #while True:\n",
    "    if 1:\n",
    "        query = command().lower()\n",
    "\n",
    "        # Logic for executing tasks based on query\n",
    "        if 'wikipedia' in query:\n",
    "            speak('Searching Wikipedia...')\n",
    "            query = query.replace(\"wikipedia\", \"\")\n",
    "            results = wikipedia.summary(f'{query}', sentences=1)\n",
    "            speak(\"According to Wikipedia\")\n",
    "            print(results)\n",
    "            speak(results)\n",
    "\n",
    "        elif 'instagram ' in query:\n",
    "            webbrowser.open(\"https://www.instagram.com/\")\n",
    "        \n",
    "        elif 'open youtube' in query:\n",
    "            webbrowser.open(\"https://www.youtube.com/\")\n",
    "\n",
    "        elif 'open google' in query:\n",
    "            webbrowser.open(\"google.com\")\n",
    "\n",
    "        elif 'open kaggle' in query:\n",
    "            webbrowser.open(\"kaggle.com\") \n",
    "            \n",
    "        \n",
    "        elif 'the weather'in query:\n",
    "            webbrowser.open(\"weather.com\")   \n",
    "\n",
    "        elif 'the score' in query:\n",
    "            webbrowser.open(\"cricbuzz.com\") \n",
    "\n",
    "\n",
    "        elif 'youtube ' in query:\n",
    "            webbrowser.open('https://www.youtube.com/watch?v=Wg1I5kqB1tM&list=RDMMWg1I5kqB1tM&start_radio=1')\n",
    "            #songs = os.listdir(music_dir)\n",
    "            #print(songs)    \n",
    "            #os.startfile(os.path.join(music_dir, songs[0]))\n",
    "\n",
    "        elif 'the time' in query:\n",
    "            strTime = datetime.datetime.now().strftime(\"%H:%M:%S\")    \n",
    "            speak(f\"Sir, the time is {strTime}\")\n",
    "\n",
    "        elif 'peter parker' in query:\n",
    "            calpath ='C:\\\\Users\\\\user\\\\Videos\\\\4K Video Downloader\\\\spiderman.mkv'\n",
    "            os.startfile(calpath)\n",
    "        \n",
    "        elif 'play music' in query:\n",
    "            calpath = \"C:\\\\Users\\\\user\\Videos\\\\4K Video Downloader\\\\rewrite.mp4\"\n",
    "            os.startfile(calpath)\n",
    "            \n",
    "        elif 'open youtube' in query:\n",
    "            webbrowser.open(\"https://www.youtube.com/\")\n",
    "\n",
    "        elif 'open google' in query:\n",
    "            webbrowser.open(\"google.com\")\n",
    "\n",
    "        elif 'open kaggle' in query:\n",
    "            webbrowser.open(\"kaggle.com\") \n",
    "            \n",
    "        \n",
    "        elif 'the weather'in query:\n",
    "            webbrowser.open(\"weather.com\")   \n",
    "\n",
    "        elif 'the score' in query:\n",
    "            webbrowser.open(\"cricbuzz.com\") \n",
    "   "
   ]
  },
  {
   "cell_type": "code",
   "execution_count": null,
   "id": "3f9858cf",
   "metadata": {},
   "outputs": [],
   "source": []
  },
  {
   "cell_type": "code",
   "execution_count": null,
   "id": "3afe3acd",
   "metadata": {},
   "outputs": [],
   "source": []
  },
  {
   "cell_type": "code",
   "execution_count": null,
   "id": "f6ee275f",
   "metadata": {},
   "outputs": [],
   "source": []
  }
 ],
 "metadata": {
  "kernelspec": {
   "display_name": "Python 3 (ipykernel)",
   "language": "python",
   "name": "python3"
  },
  "language_info": {
   "codemirror_mode": {
    "name": "ipython",
    "version": 3
   },
   "file_extension": ".py",
   "mimetype": "text/x-python",
   "name": "python",
   "nbconvert_exporter": "python",
   "pygments_lexer": "ipython3",
   "version": "3.9.7"
  }
 },
 "nbformat": 4,
 "nbformat_minor": 5
}
